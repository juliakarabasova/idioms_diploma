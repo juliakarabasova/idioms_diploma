{
 "cells": [
  {
   "cell_type": "code",
   "execution_count": 1,
   "id": "03ca5ad1",
   "metadata": {},
   "outputs": [],
   "source": [
    "import os\n",
    "from pathlib import Path\n",
    "import shutil\n",
    "from pymystem3 import Mystem"
   ]
  },
  {
   "cell_type": "code",
   "execution_count": 2,
   "id": "bcad0b35",
   "metadata": {},
   "outputs": [],
   "source": [
    "def parse(text):\n",
    "    tokens = []\n",
    "    result = Mystem().analyze(text)\n",
    "\n",
    "    for i, word in enumerate(result):\n",
    "        if not word.get('analysis', 0) or not word.get('text', 0):\n",
    "            continue\n",
    "\n",
    "        word_base = word['analysis'][0]\n",
    "        if not word_base.get('lex', 0) or not word_base.get('gr', 0):\n",
    "            continue\n",
    "\n",
    "        tokens.append(word['analysis'][0]['lex'])\n",
    "    return tokens"
   ]
  },
  {
   "cell_type": "code",
   "execution_count": 5,
   "id": "7c95397c",
   "metadata": {},
   "outputs": [],
   "source": [
    "def interfax_reader(path_in, path_out, start=853):\n",
    "    text_length = 189364\n",
    "    file_ind = start\n",
    "    i = 853\n",
    "    \n",
    "    for folder in os.listdir(path_in):\n",
    "        gain = 0\n",
    "        if folder not in ['sport', 'world']:\n",
    "            continue\n",
    "\n",
    "        for file in Path(os.path.join(path_in, folder)).glob('*.txt'):\n",
    "            i += 1\n",
    "            if '.csv' in str(file):\n",
    "                continue\n",
    "\n",
    "            cur_text = []\n",
    "            with open(file, 'r', encoding='utf-8') as f:\n",
    "                for line in f.readlines():\n",
    "                    if '# text =' in line:\n",
    "                        if line[9] == '#':\n",
    "                            continue\n",
    "                        cur_text.append(line.split(' = ')[-1]+' ')\n",
    "\n",
    "            text_parsed = parse(''.join(cur_text))\n",
    "            text_length += len(text_parsed)\n",
    "            gain += len(text_parsed)\n",
    "\n",
    "            article_txt_name = \"{}_processed.txt\".format(file_ind+1)\n",
    "            with open(os.path.join(path_out, article_txt_name), 'w', encoding='utf-8') as file_out:\n",
    "                file_out.write(' '.join(text_parsed))\n",
    "            file_ind += 1\n",
    "\n",
    "            if i % 50 == 0:\n",
    "                print('Curent article: ', file_ind, '\\nCorpus length: ', text_length)\n",
    "            \n",
    "            if gain >= 30000:\n",
    "                if folder == 'world' and text_length < 250000:\n",
    "                    continue\n",
    "                break\n",
    "\n",
    "        print('Folder: ', folder, '\\nCorpus gain: ', gain)\n",
    "    return file_ind, text_length"
   ]
  },
  {
   "cell_type": "code",
   "execution_count": null,
   "id": "9ae9661e",
   "metadata": {
    "scrolled": false
   },
   "outputs": [
    {
     "name": "stdout",
     "output_type": "stream",
     "text": [
      "Curent article:  50 \n",
      "Corpus length:  5487\n",
      "Curent article:  100 \n",
      "Corpus length:  14005\n",
      "Curent article:  150 \n",
      "Corpus length:  20986\n",
      "Curent article:  200 \n",
      "Corpus length:  27576\n",
      "Curent article:  250 \n",
      "Corpus length:  34662\n",
      "Folder:  business \n",
      "Corpus gain:  36043\n",
      "Curent article:  300 \n",
      "Corpus length:  45316\n",
      "Curent article:  350 \n",
      "Corpus length:  56575\n",
      "Curent article:  400 \n",
      "Corpus length:  67865\n",
      "Folder:  culture \n",
      "Corpus gain:  36026\n",
      "Folder:  interview \n",
      "Corpus gain:  37620\n",
      "Curent article:  450 \n",
      "Corpus length:  110194\n",
      "Curent article:  500 \n",
      "Corpus length:  132814\n",
      "Curent article:  550 \n",
      "Corpus length:  145263\n",
      "Folder:  moscow \n",
      "Corpus gain:  36208\n",
      "Curent article:  600 \n",
      "Corpus length:  153943\n",
      "Curent article:  650 \n",
      "Corpus length:  161996\n",
      "Curent article:  700 \n",
      "Corpus length:  169510\n",
      "Curent article:  750 \n",
      "Corpus length:  177468\n"
     ]
    }
   ],
   "source": [
    "corpus_length = 189364\n",
    "\n",
    "start_id, length = interfax_reader('texts_tagged_interfax', 'news_interfax')\n",
    "print('\\tCURRENT CORPUS LENGTH: ', corpus_length, '\\n\\tN OF ARTICLES: ', start_id+1)\n",
    "corpus_length += length\n",
    "\n",
    "print('\\n\\nTotal corus length: ', corpus_length, '\\nNumber of articles: ', start_id)"
   ]
  },
  {
   "cell_type": "code",
   "execution_count": 7,
   "id": "5a6cc7b7",
   "metadata": {},
   "outputs": [
    {
     "name": "stdout",
     "output_type": "stream",
     "text": [
      "Слов в новостном корпусе:  189364\n"
     ]
    }
   ],
   "source": [
    "whole_text = ''\n",
    "for file in Path('news_interfax').glob('*_processed.txt'):\n",
    "    with open(file, 'r', encoding='utf-8') as f:\n",
    "        whole_text += f.read() + ' '\n",
    "        \n",
    "print('Слов в новостном корпусе: ', len(whole_text.split()))"
   ]
  },
  {
   "cell_type": "code",
   "execution_count": 8,
   "id": "d8de933a",
   "metadata": {},
   "outputs": [
    {
     "name": "stdout",
     "output_type": "stream",
     "text": [
      "Curent article:  900 \n",
      "Corpus length:  195460\n",
      "Curent article:  950 \n",
      "Corpus length:  202139\n",
      "Curent article:  1000 \n",
      "Corpus length:  207976\n",
      "Curent article:  1050 \n",
      "Corpus length:  212832\n",
      "Curent article:  1100 \n",
      "Corpus length:  219070\n",
      "Folder:  sport \n",
      "Corpus gain:  30027\n",
      "Curent article:  1150 \n",
      "Corpus length:  223043\n",
      "Curent article:  1200 \n",
      "Corpus length:  227097\n",
      "Curent article:  1250 \n",
      "Corpus length:  231650\n",
      "Curent article:  1300 \n",
      "Corpus length:  235399\n",
      "Curent article:  1350 \n",
      "Corpus length:  241320\n",
      "Curent article:  1400 \n",
      "Corpus length:  245360\n",
      "Folder:  world \n",
      "Corpus gain:  30692\n",
      "\tCURRENT CORPUS LENGTH:  189364 \n",
      "\tN OF ARTICLES:  1445\n",
      "\n",
      "\n",
      "Total corus length:  439447 \n",
      "Number of articles:  1444\n"
     ]
    }
   ],
   "source": [
    "corpus_length = 189364\n",
    "\n",
    "start_id, length = interfax_reader('texts_tagged_interfax', 'news_interfax')\n",
    "print('\\tCURRENT CORPUS LENGTH: ', corpus_length, '\\n\\tN OF ARTICLES: ', start_id+1)\n",
    "corpus_length += length\n",
    "\n",
    "print('\\n\\nTotal corus length: ', corpus_length, '\\nNumber of articles: ', start_id)"
   ]
  },
  {
   "cell_type": "code",
   "execution_count": null,
   "id": "ff3dc705",
   "metadata": {},
   "outputs": [],
   "source": []
  }
 ],
 "metadata": {
  "kernelspec": {
   "display_name": "Python 3 (ipykernel)",
   "language": "python",
   "name": "python3"
  },
  "language_info": {
   "codemirror_mode": {
    "name": "ipython",
    "version": 3
   },
   "file_extension": ".py",
   "mimetype": "text/x-python",
   "name": "python",
   "nbconvert_exporter": "python",
   "pygments_lexer": "ipython3",
   "version": "3.7.11"
  }
 },
 "nbformat": 4,
 "nbformat_minor": 5
}
