{
 "cells": [
  {
   "cell_type": "code",
   "execution_count": 2,
   "id": "0f45d835",
   "metadata": {},
   "outputs": [],
   "source": [
    "import os\n",
    "from pathlib import Path\n",
    "import shutil\n",
    "from pymystem3 import Mystem"
   ]
  },
  {
   "cell_type": "code",
   "execution_count": 3,
   "id": "a7cbd3ae",
   "metadata": {},
   "outputs": [],
   "source": [
    "def parse(text):\n",
    "    tokens = []\n",
    "    result = Mystem().analyze(text)\n",
    "\n",
    "    for i, word in enumerate(result):\n",
    "        if not word.get('analysis', 0) or not word.get('text', 0):\n",
    "            continue\n",
    "\n",
    "        word_base = word['analysis'][0]\n",
    "        if not word_base.get('lex', 0) or not word_base.get('gr', 0):\n",
    "            continue\n",
    "\n",
    "        tokens.append(word['analysis'][0]['lex'])\n",
    "    return tokens"
   ]
  },
  {
   "cell_type": "code",
   "execution_count": 7,
   "id": "4156d96f",
   "metadata": {},
   "outputs": [],
   "source": [
    "def kp_reader(path_in, path_out, start=1470):\n",
    "    text_length = 153783\n",
    "    file_ind = start\n",
    "    \n",
    "    i = 0\n",
    "    for file in Path(path_in).glob('*.txt'):\n",
    "        if '.csv' in str(file):\n",
    "            continue\n",
    "\n",
    "        i += 1\n",
    "        if i <= 1470:\n",
    "            continue\n",
    "            \n",
    "        cur_text = []\n",
    "        with open(file, 'r', encoding='utf-8') as f:\n",
    "            for line in f.readlines():\n",
    "                if '# text =' in line:\n",
    "                    if line[9] == '#':\n",
    "                        continue\n",
    "                    cur_text.append(line.split(' = ')[-1]+' ')\n",
    "\n",
    "        text_parsed = parse(''.join(cur_text))\n",
    "        text_length += len(text_parsed)\n",
    "        \n",
    "        article_txt_name = \"{}_processed.txt\".format(file_ind+1)\n",
    "        with open(os.path.join(path_out, article_txt_name), 'w', encoding='utf-8') as file_out:\n",
    "            file_out.write(' '.join(text_parsed))\n",
    "        file_ind += 1\n",
    "\n",
    "        if i % 50 == 0:\n",
    "            print('Curent article: ', file_ind, '\\nCorpus length: ', text_length)\n",
    "        \n",
    "        if text_length >= 250000:\n",
    "            break\n",
    "\n",
    "    print('Folder: ', path_in, '\\nCorpus gain: ', text_length)\n",
    "    return file_ind, text_length"
   ]
  },
  {
   "cell_type": "code",
   "execution_count": null,
   "id": "1181dfa5",
   "metadata": {},
   "outputs": [
    {
     "name": "stdout",
     "output_type": "stream",
     "text": [
      "Curent article:  50 \n",
      "Corpus length:  5093\n",
      "Curent article:  100 \n",
      "Corpus length:  10323\n",
      "Curent article:  150 \n",
      "Corpus length:  15322\n",
      "Curent article:  200 \n",
      "Corpus length:  21536\n",
      "Curent article:  250 \n",
      "Corpus length:  27019\n",
      "Curent article:  300 \n",
      "Corpus length:  32271\n",
      "Curent article:  350 \n",
      "Corpus length:  37357\n",
      "Curent article:  400 \n",
      "Corpus length:  42677\n",
      "Curent article:  450 \n",
      "Corpus length:  47756\n",
      "Curent article:  500 \n",
      "Corpus length:  53060\n",
      "Curent article:  550 \n",
      "Corpus length:  58523\n",
      "Curent article:  600 \n",
      "Corpus length:  63403\n",
      "Curent article:  650 \n",
      "Corpus length:  68515\n",
      "Curent article:  700 \n",
      "Corpus length:  73248\n",
      "Curent article:  750 \n",
      "Corpus length:  78436\n",
      "Curent article:  800 \n",
      "Corpus length:  84284\n",
      "Curent article:  850 \n",
      "Corpus length:  89574\n",
      "Curent article:  900 \n",
      "Corpus length:  95126\n",
      "Curent article:  950 \n",
      "Corpus length:  100261\n",
      "Curent article:  1000 \n",
      "Corpus length:  105421\n",
      "Curent article:  1050 \n",
      "Corpus length:  110547\n",
      "Curent article:  1100 \n",
      "Corpus length:  115380\n",
      "Curent article:  1150 \n",
      "Corpus length:  120873\n",
      "Curent article:  1200 \n",
      "Corpus length:  125490\n",
      "Curent article:  1250 \n",
      "Corpus length:  130753\n",
      "Curent article:  1300 \n",
      "Corpus length:  135516\n",
      "Curent article:  1350 \n",
      "Corpus length:  140707\n"
     ]
    }
   ],
   "source": [
    "#PROJECT_ROOT = os.path.dirname(os.path.realpath(__file__))\n",
    "#ASSETS_PATH = os.path.join(PROJECT_ROOT, 'news_clean')\n",
    "#prepare_environment(ASSETS_PATH)\n",
    "\n",
    "corpus_length = 0\n",
    "\n",
    "start_id, length = kp_reader('texts_tagged_kp', 'news_kp')\n",
    "print('\\tCURRENT CORPUS LENGTH: ', corpus_length, '\\n\\tN OF ARTICLES: ', start_id+1)\n",
    "corpus_length += length\n",
    "\n",
    "print('\\n\\nTotal corus length: ', corpus_length, '\\nNumber of articles: ', start_id)"
   ]
  },
  {
   "cell_type": "code",
   "execution_count": 8,
   "id": "a616d28e",
   "metadata": {},
   "outputs": [
    {
     "name": "stdout",
     "output_type": "stream",
     "text": [
      "Слов в новостном корпусе:  153783\n"
     ]
    }
   ],
   "source": [
    "whole_text = ''\n",
    "for file in Path('news_kp').glob('*_processed.txt'):\n",
    "    with open(file, 'r', encoding='utf-8') as f:\n",
    "        whole_text += f.read() + ' '\n",
    "        \n",
    "print('Слов в новостном корпусе: ', len(whole_text.split()))"
   ]
  },
  {
   "cell_type": "code",
   "execution_count": 9,
   "id": "e17bb661",
   "metadata": {},
   "outputs": [
    {
     "name": "stdout",
     "output_type": "stream",
     "text": [
      "Curent article:  1500 \n",
      "Corpus length:  156998\n",
      "Curent article:  1550 \n",
      "Corpus length:  162387\n",
      "Curent article:  1600 \n",
      "Corpus length:  167679\n",
      "Curent article:  1650 \n",
      "Corpus length:  172597\n",
      "Curent article:  1700 \n",
      "Corpus length:  177914\n",
      "Curent article:  1750 \n",
      "Corpus length:  182868\n",
      "Curent article:  1800 \n",
      "Corpus length:  187752\n",
      "Curent article:  1850 \n",
      "Corpus length:  192670\n",
      "Curent article:  1900 \n",
      "Corpus length:  197865\n",
      "Curent article:  1950 \n",
      "Corpus length:  202965\n",
      "Curent article:  2000 \n",
      "Corpus length:  207621\n",
      "Curent article:  2050 \n",
      "Corpus length:  212619\n",
      "Curent article:  2100 \n",
      "Corpus length:  217092\n",
      "Curent article:  2150 \n",
      "Corpus length:  221991\n",
      "Curent article:  2200 \n",
      "Corpus length:  227342\n",
      "Curent article:  2250 \n",
      "Corpus length:  232368\n",
      "Curent article:  2300 \n",
      "Corpus length:  237113\n",
      "Curent article:  2350 \n",
      "Corpus length:  241799\n",
      "Curent article:  2400 \n",
      "Corpus length:  246891\n",
      "Folder:  texts_tagged_kp \n",
      "Corpus gain:  250037\n",
      "\tCURRENT CORPUS LENGTH:  153783 \n",
      "\tN OF ARTICLES:  2431\n",
      "\n",
      "\n",
      "Total corus length:  403820 \n",
      "Number of articles:  2430\n"
     ]
    }
   ],
   "source": [
    "corpus_length = 153783\n",
    "\n",
    "start_id, length = kp_reader('texts_tagged_kp', 'news_kp')\n",
    "print('\\tCURRENT CORPUS LENGTH: ', corpus_length, '\\n\\tN OF ARTICLES: ', start_id+1)\n",
    "corpus_length += length\n",
    "\n",
    "print('\\n\\nTotal corus length: ', corpus_length, '\\nNumber of articles: ', start_id)"
   ]
  },
  {
   "cell_type": "code",
   "execution_count": null,
   "id": "0090165b",
   "metadata": {},
   "outputs": [],
   "source": []
  }
 ],
 "metadata": {
  "kernelspec": {
   "display_name": "Python 3 (ipykernel)",
   "language": "python",
   "name": "python3"
  },
  "language_info": {
   "codemirror_mode": {
    "name": "ipython",
    "version": 3
   },
   "file_extension": ".py",
   "mimetype": "text/x-python",
   "name": "python",
   "nbconvert_exporter": "python",
   "pygments_lexer": "ipython3",
   "version": "3.7.11"
  }
 },
 "nbformat": 4,
 "nbformat_minor": 5
}
